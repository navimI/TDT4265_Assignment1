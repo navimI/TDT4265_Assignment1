{
 "cells": [
  {
   "cell_type": "markdown",
   "metadata": {},
   "source": [
    "# Assignment 1 Report"
   ]
  },
  {
   "cell_type": "markdown",
   "metadata": {},
   "source": [
    "This is an outline for your report to ease the amount of work required to create your report. Jupyter notebook supports markdown, and I recommend you to check out this [cheat sheet](https://github.com/adam-p/markdown-here/wiki/Markdown-Cheatsheet). If you are not familiar with markdown.\n",
    "\n",
    "Before delivery, **remember to convert this file to PDF**. You can do it in two ways:\n",
    "1. Print the webpage (ctrl+P or cmd+P)\n",
    "2. Export with latex. This is somewhat more difficult, but you'll get somehwat of a \"prettier\" PDF. Go to File -> Download as -> PDF via LaTeX. You might have to install nbconvert and pandoc through conda; `conda install nbconvert pandoc`."
   ]
  },
  {
   "cell_type": "markdown",
   "metadata": {},
   "source": [
    "# Task 1"
   ]
  },
  {
   "cell_type": "markdown",
   "metadata": {},
   "source": [
    "## task 1a)\n",
    "\n",
    "Fill in image of hand-written notes which are easy to read, or latex equations here"
   ]
  },
  {
   "cell_type": "markdown",
   "metadata": {},
   "source": [
    "## task 1b)\n",
    "\n",
    "Fill in image of hand-written notes which are easy to read, or latex equations here\n",
    "\n",
    "## task 1c)\n",
    "\n",
    "Fill in task 1a image of hand-written notes which are easy to read, or latex equations here\n",
    "\n",
    "## task 1c)\n",
    "\n",
    "Fill in task 1a image of hand-written notes which are easy to read, or latex equations here\n",
    "## task 1d)\n",
    "\n",
    "Fill in task 1a image of hand-written notes which are easy to read, or latex equations here\n",
    "## task 1e)\n",
    "\n",
    "Fill in task 1a image of hand-written notes which are easy to read, or latex equations here\n",
    "## task 1f)\n",
    "\n",
    "Fill in task 1a image of hand-written notes which are easy to read, or latex equations here\n",
    "## task 1g)\n",
    "\n",
    "Fill in task 1a image of hand-written notes which are easy to read, or latex equations here"
   ]
  },
  {
   "cell_type": "markdown",
   "metadata": {},
   "source": [
    "# Task 2\n",
    "\n",
    "### Task 2a)\n",
    "![task 2](task_2_plot.png)\n",
    "### Task 2b)\n",
    "Validation accuracy: 0.735\n",
    "Validation loss: 0.8700,\n",
    "Training loss: ~0.45 (not stable in the short run)"
   ]
  },
  {
   "cell_type": "markdown",
   "metadata": {},
   "source": [
    "# Task 3"
   ]
  },
  {
   "cell_type": "markdown",
   "metadata": {},
   "source": [
    "### Task 3a)\n",
    "|Layer|Layer Type|Number of Hidden Units / Number of Filters|Activation Function|\n",
    "|-----|----------|---------|---------|\n",
    "|1|Conv2D|256|ReLU|\n",
    "|1|MaxPool2D|–|–|\n",
    "|2|Conv2D|512|ReLU|\n",
    "|2|MaxPool2D|–|–|\n",
    "|3|Conv2D|1024|ReLU|\n",
    "|3|MaxPool2D|–|–|\n",
    "|-----|----------|---------|---------|\n",
    "||Flatten|–|–|\n",
    "|4|Fully-Connected|512|ReLU|\n",
    "|5|Fully-Connected|10|Softmax|\n",
    "MaxPool2D's stride is set to 3.\n",
    "Other parameters and settings are the same as the original model.\n",
    "\n",
    "### Task 3b)\n",
    "![task 3b](task_3b_plot.png)\n",
    "Validation accuracy: 0.7712\n",
    "Validation loss: 0.7648\n",
    "Training loss: 0.2530\n",
    "### Task 3c)\n",
    "Increasing number of filters in the first convolunutional layer mainly did the boost, probabilly. More filters means more splitting over the raw data, so less information loss.\n",
    "Changing RElU function didn't help. Tried with some RElU variants, but no luck. Probabilly the main issue was they still RElU variants, similar functions.\n",
    "### Task 3d)\n",
    "![task 3d](task_3d_plot.png)\n",
    "Accuracy: 0.7787\n",
    "### Task 3e)\n",
    "![task 3e](task_3e_plot.png)\n",
    "Accuracy: 0.818\n",
    "### Task 3f)\n",
    "Validation loss stay constant over the epochs, so data are not overfitting or underfitting"
   ]
  },
  {
   "cell_type": "markdown",
   "metadata": {},
   "source": [
    "# Task 4"
   ]
  },
  {
   "cell_type": "markdown",
   "metadata": {},
   "source": [
    "## Task 4a)\n",
    "\n",
    "FILL IN ANSWER. "
   ]
  }
 ],
 "metadata": {
  "kernelspec": {
   "display_name": "Python 3 (ipykernel)",
   "language": "python",
   "name": "python3"
  },
  "language_info": {
   "codemirror_mode": {
    "name": "ipython",
    "version": 3
   },
   "file_extension": ".py",
   "mimetype": "text/x-python",
   "name": "python",
   "nbconvert_exporter": "python",
   "pygments_lexer": "ipython3",
   "version": "3.10.9"
  },
  "vscode": {
   "interpreter": {
    "hash": "636a7b4364975c2b327292c177fa03c0858534c2e147176a51ac1930b55bb9fd"
   }
  }
 },
 "nbformat": 4,
 "nbformat_minor": 4
}
